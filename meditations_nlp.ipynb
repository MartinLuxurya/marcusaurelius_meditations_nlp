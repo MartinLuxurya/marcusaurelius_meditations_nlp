{
 "cells": [
  {
   "cell_type": "markdown",
   "id": "dfe4e20d-82e1-4727-92f0-d5595658d79d",
   "metadata": {},
   "source": [
    "# Step 0: Import libraries."
   ]
  },
  {
   "cell_type": "code",
   "execution_count": 1,
   "id": "c8e63804-dd0f-4b8a-962c-76eb952d47c8",
   "metadata": {},
   "outputs": [
    {
     "name": "stderr",
     "output_type": "stream",
     "text": [
      "[nltk_data] Downloading package punkt to /home/PMU004/nltk_data...\n",
      "[nltk_data]   Package punkt is already up-to-date!\n",
      "[nltk_data] Downloading package stopwords to /home/PMU004/nltk_data...\n",
      "[nltk_data]   Package stopwords is already up-to-date!\n"
     ]
    },
    {
     "data": {
      "text/plain": [
       "True"
      ]
     },
     "execution_count": 1,
     "metadata": {},
     "output_type": "execute_result"
    }
   ],
   "source": [
    "import nltk\n",
    "from nltk.tokenize import RegexpTokenizer\n",
    "from nltk.corpus import stopwords\n",
    "nltk.download(\"punkt\")\n",
    "nltk.download(\"stopwords\")\n",
    "\n",
    "# nltk library docs: https://www.nltk.org/install.html"
   ]
  },
  {
   "cell_type": "markdown",
   "id": "1e8040b8-b09e-4993-9f31-ca1c38e96067",
   "metadata": {},
   "source": [
    "# Step 1: Read and prepare the text."
   ]
  },
  {
   "cell_type": "markdown",
   "id": "2e34b1c3-6bc2-41ed-84a7-8686335818b7",
   "metadata": {},
   "source": [
    "* We have to open the text file we are working with to prepare it for further analysis."
   ]
  },
  {
   "cell_type": "code",
   "execution_count": 2,
   "id": "9bb4d544-9c2b-435e-8551-14ca4a0c3575",
   "metadata": {},
   "outputs": [],
   "source": [
    "file = open(\"meditations_marcus_aurelius.txt\", encoding = \"UTF-8\")\n",
    "raw_meditations = file.read().lower() # Lowercase all the text for better analysis."
   ]
  },
  {
   "cell_type": "markdown",
   "id": "686dc8e2-f93b-4844-987a-44456824a3e9",
   "metadata": {},
   "source": [
    "* Using nltk functions we process the text for further analysis."
   ]
  },
  {
   "cell_type": "code",
   "execution_count": 3,
   "id": "f75516c2-1e69-4b1e-a7b9-2d103e507926",
   "metadata": {},
   "outputs": [],
   "source": [
    "tokenizer = RegexpTokenizer(r'\\w+') # With this regex we can omit punctuation.\n",
    "tokens_meditations = tokenizer.tokenize(raw_meditations) # Separate text into tokens (words).\n",
    "stop_words = set(stopwords.words(\"english\")) # Language of the stopwords we want to omit.\n",
    "\n",
    "words_filtered = []\n",
    "\n",
    "for w in tokens_meditations:\n",
    "    if w not in stop_words:\n",
    "        words_filtered.append(w)\n",
    "        \n",
    "text_meditations = nltk.Text(words_filtered) # Searchable version of the text.\n"
   ]
  },
  {
   "cell_type": "markdown",
   "id": "2783ba47-2623-4f8a-8ff4-c1c48cf85682",
   "metadata": {},
   "source": [
    "# Step 2: Analysis of the text. "
   ]
  },
  {
   "cell_type": "code",
   "execution_count": 4,
   "id": "00c72cc2-a589-4e7c-a04b-96af6dd1bd2c",
   "metadata": {},
   "outputs": [
    {
     "data": {
      "text/plain": [
       "34112"
      ]
     },
     "execution_count": 4,
     "metadata": {},
     "output_type": "execute_result"
    }
   ],
   "source": [
    "# How many words the filtered text has.\n",
    "len(text_meditations)"
   ]
  },
  {
   "cell_type": "code",
   "execution_count": 5,
   "id": "878b3c20-e971-412d-b49f-6f7b97a6916a",
   "metadata": {},
   "outputs": [
    {
     "data": {
      "text/plain": [
       "30"
      ]
     },
     "execution_count": 5,
     "metadata": {},
     "output_type": "execute_result"
    }
   ],
   "source": [
    "# How many times the word desired appears on the text.(case-sensitive)\n",
    "text_meditations.count(\"virtue\")"
   ]
  },
  {
   "cell_type": "code",
   "execution_count": 6,
   "id": "071e2717-7c47-44fc-a6f3-fdc30993166c",
   "metadata": {},
   "outputs": [
    {
     "data": {
      "text/plain": [
       "[('thou', 821),\n",
       " ('things', 552),\n",
       " ('unto', 439),\n",
       " ('man', 368),\n",
       " ('thy', 347),\n",
       " ('one', 336),\n",
       " ('thee', 312),\n",
       " ('nature', 273),\n",
       " ('doth', 253),\n",
       " ('either', 239),\n",
       " ('good', 216),\n",
       " ('thyself', 197),\n",
       " ('must', 193),\n",
       " ('also', 172),\n",
       " ('whatsoever', 172),\n",
       " ('life', 166),\n",
       " ('shall', 163),\n",
       " ('world', 160),\n",
       " ('upon', 152),\n",
       " ('mind', 150)]"
      ]
     },
     "execution_count": 6,
     "metadata": {},
     "output_type": "execute_result"
    }
   ],
   "source": [
    "# Frequency of appearance\n",
    "freq_dist = nltk.FreqDist(text_meditations)\n",
    "freq_dist.most_common(20) # Most common 20 words."
   ]
  },
  {
   "cell_type": "code",
   "execution_count": 7,
   "id": "5f99ebf2-eeba-41b2-a162-f29a275753e6",
   "metadata": {},
   "outputs": [
    {
     "data": {
      "image/png": "[encoded data removed]",
      "text/plain": [
       "<Figure size 432x288 with 1 Axes>"
      ]
     },
     "metadata": {
      "needs_background": "light"
     },
     "output_type": "display_data"
    }
   ],
   "source": [
    "# A dispersion plot to visualize the frequency of appearance.\n",
    "text_meditations.dispersion_plot([\"man\", \"nature\", \"life\", \"death\", \"god\", \"hurt\"])"
   ]
  },
  {
   "cell_type": "code",
   "execution_count": 8,
   "id": "f5f00a97-6196-4625-baaa-fdb0fabc00e9",
   "metadata": {},
   "outputs": [
    {
     "data": {
      "text/plain": [
       "[('thou', 'art'),\n",
       " ('thou', 'shalt'),\n",
       " ('unto', 'thee'),\n",
       " ('thou', 'hast'),\n",
       " ('thou', 'dost'),\n",
       " ('thy', 'mind'),\n",
       " ('thou', 'must'),\n",
       " ('must', 'needs'),\n",
       " ('thou', 'mayest'),\n",
       " ('according', 'nature'),\n",
       " ('thou', 'doest'),\n",
       " ('nature', 'universe'),\n",
       " ('one', 'another'),\n",
       " ('happen', 'unto'),\n",
       " ('marcus', 'aurelius'),\n",
       " ('thou', 'wilt'),\n",
       " ('antoninus', 'pius'),\n",
       " ('every', 'one'),\n",
       " ('doth', 'happen'),\n",
       " ('reasonable', 'creatures')]"
      ]
     },
     "execution_count": 8,
     "metadata": {},
     "output_type": "execute_result"
    }
   ],
   "source": [
    "# Text collocations\n",
    "text_meditations.collocation_list()"
   ]
  },
  {
   "cell_type": "code",
   "execution_count": 9,
   "id": "7fcf97f8-1d34-4342-a58c-76f8b460d536",
   "metadata": {},
   "outputs": [
    {
     "name": "stdout",
     "output_type": "stream",
     "text": [
      "Displaying 25 of 368 matches:\n",
      "ations legends myths allegorical soul man thus emanation godhead eventually abs\n",
      "together good good whole highest good man consciously work god common good sens\n",
      " rules universe virtue soul must rule man logic stoic system noteworthy theory \n",
      "rely sphere virtue may act ideal wise man sufficient unto things αὐταρκής knowi\n",
      "upon rack probable stoic claimed wise man strove ideal much christian strives l\n",
      "oint strong insistence unity universe man duty part great whole public spirit s\n",
      "_imitation christ_ ideal self control man task says _imitation_ overcome every \n",
      "a meet us _meditations_ alike realise man one great community man sufficient sa\n",
      "alike realise man one great community man sufficient says christian must bear t\n",
      "e upon earth says christian evil days man life passeth away suddenly shadow one\n",
      " serve divine spirit implanted within man must keep pure violent passion evil a\n",
      "ourtesy consideration aims whatsoever man either doth saith thou must good doth\n",
      "either doth saith thou must good doth man offend doth offend trouble thee offen\n",
      "tent marcus aurelius knows heart full man thy thoughts ordinary cogitations say\n",
      " good desires good actions irony fate man gentle good desirous quiet joys mind \n",
      "y ostentation affect show active able man kind bodily exercises gave study rhet\n",
      " pains loss child long diseases still man also present visible example unto pos\n",
      "present visible example unto possible man vehement remiss man subject vexed off\n",
      "ple unto possible man vehement remiss man subject vexed offended incapacity sch\n",
      "ors lectures expositions true pattern man good gifts faculties least esteemed e\n",
      "et pass neither unsensible unthankful man vi sextus mildness pattern family gov\n",
      "ets philosophers conversation example man might accommodate men companies thoug\n",
      "necessary determinations instructions man life man without ever least appearanc\n",
      " determinations instructions man life man without ever least appearance anger p\n",
      "un reprovable reproachfully reprehend man barbarism solecism false pronunciatio\n"
     ]
    }
   ],
   "source": [
    "# The lines where the word searched appears.\n",
    "# Gives insight of the context.\n",
    "text_meditations.concordance(\"man\")"
   ]
  },
  {
   "cell_type": "code",
   "execution_count": 10,
   "id": "852e5bae-96d6-48a8-af70-aa6a60f506dc",
   "metadata": {},
   "outputs": [
    {
     "name": "stdout",
     "output_type": "stream",
     "text": [
      "thee good world little nature universe thyself things men life god bad\n",
      "wise another doth way doest first body one\n"
     ]
    }
   ],
   "source": [
    "# Similar words to the one analysed.\n",
    "text_meditations.similar(\"man\")"
   ]
  },
  {
   "cell_type": "code",
   "execution_count": 11,
   "id": "84b0bce1-5f0d-4e21-a1a5-af3132c68127",
   "metadata": {},
   "outputs": [
    {
     "name": "stdout",
     "output_type": "stream",
     "text": [
      "man_doth constitution_man man_man\n",
      "things_nothing\n",
      "No common contexts were found\n"
     ]
    }
   ],
   "source": [
    "# Most common words used with the words from the list.\n",
    "text_meditations.common_contexts(['man', 'nature'])\n",
    "text_meditations.common_contexts([\"life\", \"death\"])\n",
    "text_meditations.common_contexts([\"god\", \"hurt\"])"
   ]
  },
  {
   "cell_type": "code",
   "execution_count": 12,
   "id": "375cee2a-ddf6-486c-8a40-cd04a5802917",
   "metadata": {},
   "outputs": [],
   "source": [
    "# A .txt file created with filtered text\n",
    "with open('filtered_meditations.txt', 'w') as f:\n",
    "    for line in text_meditations:\n",
    "        f.write(f\"{line} \")\n",
    "        \n",
    "# with the new .txt file we can make a wordcloud for more visual appealing visualization of the frequency of the words used."
   ]
  },
  {
   "cell_type": "markdown",
   "id": "ef04b38b-2090-403f-be51-38b95ab2f81c",
   "metadata": {},
   "source": [
    "![MARCOAURELIUS](marco_wordcloud.png)"
   ]
  }
 ],
 "metadata": {
  "kernelspec": {
   "display_name": "Python 3 (ipykernel)",
   "language": "python",
   "name": "python3"
  },
  "language_info": {
   "codemirror_mode": {
    "name": "ipython",
    "version": 3
   },
   "file_extension": ".py",
   "mimetype": "text/x-python",
   "name": "python",
   "nbconvert_exporter": "python",
   "pygments_lexer": "ipython3",
   "version": "3.10.6"
  }
 },
 "nbformat": 4,
 "nbformat_minor": 5
}
